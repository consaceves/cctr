{
 "cells": [
  {
   "cell_type": "code",
   "execution_count": 36,
   "metadata": {},
   "outputs": [],
   "source": [
    "import numpy as np\n",
    "import pandas as pd\n",
    "from sklearn.model_selection import train_test_split\n",
    "from sklearn.tree import DecisionTreeRegressor\n",
    "from sklearn import metrics\n"
   ]
  },
  {
   "cell_type": "code",
   "execution_count": 37,
   "metadata": {},
   "outputs": [
    {
     "data": {
      "text/html": [
       "<div>\n",
       "<style scoped>\n",
       "    .dataframe tbody tr th:only-of-type {\n",
       "        vertical-align: middle;\n",
       "    }\n",
       "\n",
       "    .dataframe tbody tr th {\n",
       "        vertical-align: top;\n",
       "    }\n",
       "\n",
       "    .dataframe thead th {\n",
       "        text-align: right;\n",
       "    }\n",
       "</style>\n",
       "<table border=\"1\" class=\"dataframe\">\n",
       "  <thead>\n",
       "    <tr style=\"text-align: right;\">\n",
       "      <th></th>\n",
       "      <th>user_id</th>\n",
       "      <th>rating</th>\n",
       "      <th>exercise_id</th>\n",
       "      <th>als</th>\n",
       "      <th>arthritis</th>\n",
       "      <th>md</th>\n",
       "      <th>osteoporosis</th>\n",
       "      <th>parkinsons</th>\n",
       "    </tr>\n",
       "  </thead>\n",
       "  <tbody>\n",
       "    <tr>\n",
       "      <th>0</th>\n",
       "      <td>1</td>\n",
       "      <td>4</td>\n",
       "      <td>1</td>\n",
       "      <td>0</td>\n",
       "      <td>1</td>\n",
       "      <td>1</td>\n",
       "      <td>0</td>\n",
       "      <td>0</td>\n",
       "    </tr>\n",
       "    <tr>\n",
       "      <th>1</th>\n",
       "      <td>2</td>\n",
       "      <td>2</td>\n",
       "      <td>2</td>\n",
       "      <td>1</td>\n",
       "      <td>0</td>\n",
       "      <td>0</td>\n",
       "      <td>1</td>\n",
       "      <td>1</td>\n",
       "    </tr>\n",
       "    <tr>\n",
       "      <th>2</th>\n",
       "      <td>3</td>\n",
       "      <td>1</td>\n",
       "      <td>2</td>\n",
       "      <td>1</td>\n",
       "      <td>1</td>\n",
       "      <td>1</td>\n",
       "      <td>0</td>\n",
       "      <td>0</td>\n",
       "    </tr>\n",
       "    <tr>\n",
       "      <th>3</th>\n",
       "      <td>4</td>\n",
       "      <td>5</td>\n",
       "      <td>1</td>\n",
       "      <td>0</td>\n",
       "      <td>0</td>\n",
       "      <td>0</td>\n",
       "      <td>0</td>\n",
       "      <td>0</td>\n",
       "    </tr>\n",
       "    <tr>\n",
       "      <th>4</th>\n",
       "      <td>5</td>\n",
       "      <td>7</td>\n",
       "      <td>3</td>\n",
       "      <td>0</td>\n",
       "      <td>0</td>\n",
       "      <td>0</td>\n",
       "      <td>0</td>\n",
       "      <td>0</td>\n",
       "    </tr>\n",
       "  </tbody>\n",
       "</table>\n",
       "</div>"
      ],
      "text/plain": [
       "   user_id  rating  exercise_id  als  arthritis  md  osteoporosis  parkinsons\n",
       "0        1       4            1    0          1   1             0           0\n",
       "1        2       2            2    1          0   0             1           1\n",
       "2        3       1            2    1          1   1             0           0\n",
       "3        4       5            1    0          0   0             0           0\n",
       "4        5       7            3    0          0   0             0           0"
      ]
     },
     "execution_count": 37,
     "metadata": {},
     "output_type": "execute_result"
    }
   ],
   "source": [
    "PATH = '/home/paperspace/data/ml-latest-small/'\n",
    "\n",
    "data = pd.DataFrame.from_dict({\"user_id\" : [1, 2, 3, 4, 5, 6, 7, 8, 9, 10],\n",
    "        \"rating\" : [4, 2, 1, 5, 7, 8, 2, 5, 5, 7],\n",
    "        \"exercise_id\" : [1, 2, 2, 1, 3, 1, 2, 3, 1, 3],\n",
    "        \"als\" : [0, 1, 1, 0, 0, 0, 1, 0, 1, 0],\n",
    "        \"arthritis\" : [1, 0, 1, 0, 0, 1, 0, 0, 1, 0],\n",
    "        \"md\" : [1, 0, 1, 0, 0, 1, 1, 0, 0, 0],\n",
    "        \"osteoporosis\" : [0, 1, 0, 0, 0, 1, 1, 0, 0, 1],\n",
    "        \"parkinsons\" : [0, 1, 0, 0, 0, 1, 0, 1, 0, 0]\n",
    "           })\n",
    "\n",
    "data.head()"
   ]
  },
  {
   "cell_type": "code",
   "execution_count": 47,
   "metadata": {},
   "outputs": [],
   "source": [
    "#################### decision tree ###################\n",
    "dtr = DecisionTreeRegressor()\n",
    "X = data[['exercise_id','als','arthritis','md','osteoporosis','parkinsons']]\n",
    "Y = data['rating']\n",
    "fit2 = dtr.fit(X, Y)\n"
   ]
  },
  {
   "cell_type": "code",
   "execution_count": 48,
   "metadata": {},
   "outputs": [],
   "source": [
    "test_data = pd.DataFrame.from_dict({\n",
    "        \"exercise_id\" : [1, 2, 2, 1, 3, 1, 2, 3, 1, 3, 2, 3, 1, 2, 3, 1, 1, 2, 2, 3],\n",
    "        \"als\" : [0, 1, 1, 0, 0, 0, 1, 0, 1, 0, 1, 0, 0, 1, 0, 1, 0, 0, 1, 1],\n",
    "        \"arthritis\" : [1, 0, 1, 0, 0, 1, 0, 0, 1, 0, 1, 1, 0, 0, 1, 0, 1, 0, 0, 0],\n",
    "        \"md\" : [1, 0, 1, 0, 0, 1, 1, 0, 0, 0, 1, 0, 0, 0, 0, 0, 1, 1, 0, 0],\n",
    "        \"osteoporosis\" : [0, 1, 0, 0, 0, 1, 1, 0, 0, 1, 1, 1, 1, 0, 1, 0, 0, 1, 0,],\n",
    "        \"parkinsons\" : [0, 1, 0, 0, 0, 1, 0, 1, 0, 0]\n",
    "           })"
   ]
  },
  {
   "cell_type": "code",
   "execution_count": 49,
   "metadata": {},
   "outputs": [
    {
     "name": "stdout",
     "output_type": "stream",
     "text": [
      "   exercise_id  als  arthritis  md  osteoporosis  parkinsons  prediction\n",
      "0            1    0          1   1             0           0         4.0\n",
      "1            2    1          0   0             1           1         2.0\n",
      "2            2    1          1   1             0           0         1.0\n",
      "3            1    0          0   0             0           0         5.0\n",
      "4            3    0          0   0             0           0         7.0\n",
      "5            1    0          1   1             1           1         8.0\n",
      "6            2    1          0   1             1           0         2.0\n",
      "7            3    0          0   0             0           1         5.0\n",
      "8            1    1          1   0             0           0         5.0\n",
      "9            3    0          0   0             1           0         7.0\n"
     ]
    }
   ],
   "source": [
    "predicted = dtr.predict(test_data)\n",
    "#print(predicted)\n",
    "\n",
    "test_data['prediction'] = predicted\n",
    "print(test_data)"
   ]
  },
  {
   "cell_type": "code",
   "execution_count": null,
   "metadata": {},
   "outputs": [],
   "source": []
  }
 ],
 "metadata": {
  "kernelspec": {
   "display_name": "Python 3",
   "language": "python",
   "name": "python3"
  },
  "language_info": {
   "codemirror_mode": {
    "name": "ipython",
    "version": 3
   },
   "file_extension": ".py",
   "mimetype": "text/x-python",
   "name": "python",
   "nbconvert_exporter": "python",
   "pygments_lexer": "ipython3",
   "version": "3.8.3"
  }
 },
 "nbformat": 4,
 "nbformat_minor": 4
}
